{
 "cells": [
  {
   "cell_type": "code",
   "execution_count": 2,
   "metadata": {},
   "outputs": [],
   "source": [
    "from astropy import coordinates,units,constants\n",
    "import numpy as np\n",
    "import matplotlib.pyplot as plt\n",
    "from astropy.io import ascii"
   ]
  },
  {
   "cell_type": "code",
   "execution_count": 12,
   "metadata": {},
   "outputs": [
    {
     "name": "stdout",
     "output_type": "stream",
     "text": [
      "2.1998650004285607 kpc\n",
      "Crab GP at 10kpc: 72.59109030165828 Jy\n",
      "       Name       Survey Class  RAdeg   ... r1/2  VMag Ref        CrabGP      \n",
      "                                 deg    ...  pc   mag               Jy        \n",
      "----------------- ------ ----- -------- ... ---- ----- --- -------------------\n",
      "        Antlia II     --     4 143.8868 ... 2301 -9.03   1  0.4166155320343106\n",
      "      Aquarius II    PS1     4 338.4813 ...  125  -4.4   2  0.6223515972364393\n",
      "         Bootes I    PS1     4   210.02 ...  160 -6.02   3  1.6664621281372425\n",
      "        Bootes II    PS1     4 209.5141 ...   33 -2.94   3   4.115141173563394\n",
      "       Bootes III    PS1     4    209.3 ...  289 -5.75   4  3.2861516659872465\n",
      "        Bootes IV    PS1     3  233.689 ...  277 -4.53   5 0.16618458895551447\n",
      " Canes Venatici I    PS1     4 202.0091 ...  338  -8.8   3 0.15274617099077997\n",
      "Canes Venatici II    PS1     4 194.2927 ...   55 -5.17   3 0.28355894649085267\n",
      "           Carina     --     4 100.4065 ...  248 -9.43   3  0.6584225877701431\n",
      "        Carina II     --     4 114.1066 ...   77  -4.5   6   5.601164375127953\n",
      "              ...    ...   ...      ... ...  ...   ... ...                 ...\n",
      "    Triangulum II    PS1     3  33.3252 ...   13  -1.6   3   8.065676700184254\n",
      "        Tucana II    DES     4 342.9796 ...  165  -3.8  25   2.157880211107559\n",
      "       Tucana III    DES     3   359.15 ...   44  -2.4   8  11.614574448265325\n",
      "        Tucana IV    DES     4     0.73 ...  128  -3.5   8   3.150654961009474\n",
      "         Tucana V    DES     3   354.35 ...   16  -1.6   8  2.3997054645176292\n",
      "     Ursa Major I    PS1     4 158.7706 ...  151 -5.12   3  0.7715069646259781\n",
      "    Ursa Major II    PS1     4 132.8726 ...   85 -4.25   3   7.088973662271316\n",
      "       Ursa Minor    PS1     4  227.242 ...  272 -9.03   3  1.2567709539760783\n",
      "          Virgo I    PS1     3  180.038 ...   30 -0.33   9  0.8765981198123207\n",
      "        Willman 1    PS1     4 162.3436 ...   20 -2.53   3   5.027083815904313\n",
      "Length = 61 rows\n"
     ]
    }
   ],
   "source": [
    "## load all satellite galaxies\n",
    "data = ascii.read(\"./Drlica-Wagner2020.txt\")\n",
    "\n",
    "## let's calculate the angular size of these galaxies ---## oops they're actually in the column ah\n",
    "distance=np.array(data['D'])## distance of these galaxies in kpc\n",
    "\n",
    "\n",
    "### Crab pulsar let's say 1kJy for a reasonable example?\n",
    "crabgp=1500*units.Jy \n",
    "# crabgp=100*units.Jy ## 1.4 GHz based on -3.3 scale\n",
    "#crabgp=4.92e3*units.Jy ## 1kJy at 1.4 GHz \n",
    "\n",
    "\n",
    "\n",
    "crab=(7175*units.lightyear).to(units.kpc)\n",
    "print (crab)\n",
    "crab_pf=14*units.mJy.to(units.Jy)\n",
    "\n",
    "vela_pf=1100*units.mJy.to(units.Jy)\n",
    "vela=0.28*units.kpc\n",
    "\n",
    "mockcrab=crabgp*(crab**2)/((distance*units.kpc)**2)\n",
    "print('Crab GP at 10kpc:',crabgp*crab**2/(10*units.kpc)**2)\n",
    "\n",
    "data.add_column(col=mockcrab,name='CrabGP')\n",
    "print (data) ## if you want to have a look at the whole table"
   ]
  },
  {
   "cell_type": "code",
   "execution_count": 11,
   "metadata": {},
   "outputs": [
    {
     "name": "stdout",
     "output_type": "stream",
     "text": [
      "       Name         ah    e \n",
      "                  arcmin    \n",
      "----------------- ------ ---\n",
      "Canes Venatici II   1.52 0.4\n",
      "      Name         ah    e  \n",
      "                 arcmin     \n",
      "---------------- ------ ----\n",
      "Canes Venatici I   7.12 0.44\n",
      " Name    ah    e  \n",
      "       arcmin     \n",
      "------ ------ ----\n",
      "Leo II   2.52 0.07\n",
      "   Name      ah    e  \n",
      "           arcmin     \n",
      "---------- ------ ----\n",
      "Ursa Minor   18.3 0.55\n",
      " Name    ah    e  \n",
      "       arcmin     \n",
      "------ ------ ----\n",
      "Fornax   19.6 0.29\n",
      "Name   ah    e \n",
      "     arcmin    \n",
      "---- ------ ---\n",
      "     Name        ah    e \n",
      "               arcmin    \n",
      "-------------- ------ ---\n",
      "Sagittarius II    1.6 0.1\n",
      "Canes Venatici II 6.649002052173111 1.52 1.3931030112665754 1.0 1.0\n",
      "Canes Venatici II 0.28355894649085267 Jy 160\n",
      "Canes Venatici I 142.94365904547573 7.12 6.393744142519311 1.0 1.0\n",
      "Canes Venatici I 0.15274617099077997 Jy 218\n",
      "Leo II 19.891342380034157 2.52 2.51381841826334 1.0 1.0\n",
      "Leo II 0.13371233638795757 Jy 233\n",
      "Ursa Minor 878.2212341174969 18.3 15.28351317596841 1.0 1.0\n",
      "Ursa Minor 1.2567709539760783 Jy 76\n",
      "Fornax 1154.4252581406383 19.6 18.75772224978289 1.0 1.0\n",
      "Fornax 0.33592989171946075 Jy 147\n",
      "Sculptor 369.82751227500614 11.17 10.544267010560763 1.0 1.0\n",
      "Sculptor 1.0287852933908486 Jy 84\n",
      "Sagittarius II 7.998107014437855 1.6 1.591979899370592 1.0 1.0\n",
      "Sagittarius II 1.5247025898268909 Jy 69\n"
     ]
    }
   ],
   "source": [
    "f=open(\"angular_res.txt\",'w')\n",
    "print(data['Name', \"ah\",\"e\"][data[\"Name\"]=='Canes Venatici II'])\n",
    "\n",
    "\n",
    "print(data['Name', \"ah\",\"e\"][data[\"Name\"]=='Canes Venatici I'])\n",
    "print(data['Name', \"ah\",\"e\"][data[\"Name\"]=='Leo II'])\n",
    "print(data['Name', \"ah\",\"e\"][data[\"Name\"]=='Ursa Minor'])\n",
    "print(data['Name', \"ah\",\"e\"][data[\"Name\"]=='Fornax'])\n",
    "print(data['Name', \"ah\",\"e\"][data[\"Name\"]=='Scupltor'])\n",
    "print(data['Name', \"ah\",\"e\"][data[\"Name\"]=='Sagittarius II'])\n",
    "for name in ['Canes Venatici II','Canes Venatici I','Leo II',\"Ursa Minor\", \"Fornax\", \"Sculptor\", \"Sagittarius II\"]:\n",
    "    angsize=(data[\"ah\"][data[\"Name\"]==name][0]**2)*np.sqrt(1-data[\"e\"][data[\"Name\"]==name][0]**2)*3.14\n",
    "    a=data[\"ah\"][data[\"Name\"]==name][0]\n",
    "    crabby=data[\"CrabGP\"][data[\"Name\"]==name][0]\n",
    "    b=np.sqrt(data[\"ah\"][data[\"Name\"]==name][0]**2*(1-data[\"e\"][data[\"Name\"]==name][0]**2))\n",
    "    print(name,angsize,a,b,a//33+1,b//33+1)\n",
    "    print(name,crabby,data[\"D\"][data[\"Name\"]==name][0])\n",
    "    f.write(name+\";\"+str(np.round(angsize,1))+';'+str(np.round(angsize/6.65,1))+';'+str(np.round(angsize/6.65/4,1))\n",
    "            +';'+str()+\"\\n\")\n",
    "f.close()"
   ]
  },
  {
   "cell_type": "code",
   "execution_count": null,
   "metadata": {},
   "outputs": [],
   "source": [
    "hi_query=np.loadtxt('query.txt',dtype=str,delimiter='\\t')[1:]\n",
    "#name          halpha_mag      h1_21_cm_mag                log_h1_mass\n",
    "logh1mass=hi_query.T[-1]\n",
    "print (hi_query)"
   ]
  },
  {
   "cell_type": "code",
   "execution_count": null,
   "metadata": {
    "scrolled": false
   },
   "outputs": [],
   "source": [
    "### filter parkes sample\n",
    "##parkes dec -32.99839\n",
    "gmrt_targets=data[(data['DEdeg']>(-53))*(data['Class']==4)]\n",
    "# print(pks_targets)\n",
    "# print(gmrt_targets['CrabGP'])\n",
    "print (gmrt_targets)\n",
    "f=open(\"satellite gal names GMRT.txt\",'w')\n",
    "for i in gmrt_targets['RAdeg','DEdeg']:\n",
    "    f.write(str(i[0])+\" \"+str(i[1])+\"; \")\n",
    "#     print(i[0],i[1])\n",
    "f.close()\n",
    "\n",
    "# for i in gmrt_targets:\n",
    "#     print(i[\"CrabGP\"])\n",
    "print(hi_query[0][0])\n",
    "gmrt_targets[\"Name\"]==hi_query[0][0]"
   ]
  },
  {
   "cell_type": "code",
   "execution_count": 8,
   "metadata": {},
   "outputs": [
    {
     "ename": "NameError",
     "evalue": "name 'pks_targets' is not defined",
     "output_type": "error",
     "traceback": [
      "\u001b[0;31m---------------------------------------------------------------------------\u001b[0m",
      "\u001b[0;31mNameError\u001b[0m                                 Traceback (most recent call last)",
      "\u001b[0;32m<ipython-input-8-2ee91c50e57f>\u001b[0m in \u001b[0;36m<module>\u001b[0;34m\u001b[0m\n\u001b[0;32m----> 1\u001b[0;31m \u001b[0mplt\u001b[0m\u001b[0;34m.\u001b[0m\u001b[0mhist\u001b[0m\u001b[0;34m(\u001b[0m\u001b[0mpks_targets\u001b[0m\u001b[0;34m[\u001b[0m\u001b[0;34m'ah'\u001b[0m\u001b[0;34m]\u001b[0m\u001b[0;34m,\u001b[0m\u001b[0mbins\u001b[0m\u001b[0;34m=\u001b[0m\u001b[0;36m30\u001b[0m\u001b[0;34m)\u001b[0m\u001b[0;34m\u001b[0m\u001b[0;34m\u001b[0m\u001b[0m\n\u001b[0m\u001b[1;32m      2\u001b[0m \u001b[0mplt\u001b[0m\u001b[0;34m.\u001b[0m\u001b[0mxlabel\u001b[0m\u001b[0;34m(\u001b[0m\u001b[0;34m\"Arcmin\"\u001b[0m\u001b[0;34m)\u001b[0m\u001b[0;34m\u001b[0m\u001b[0;34m\u001b[0m\u001b[0m\n\u001b[1;32m      3\u001b[0m \u001b[0mplt\u001b[0m\u001b[0;34m.\u001b[0m\u001b[0mshow\u001b[0m\u001b[0;34m(\u001b[0m\u001b[0;34m)\u001b[0m\u001b[0;34m\u001b[0m\u001b[0;34m\u001b[0m\u001b[0m\n\u001b[1;32m      4\u001b[0m \u001b[0mplt\u001b[0m\u001b[0;34m.\u001b[0m\u001b[0mhist\u001b[0m\u001b[0;34m(\u001b[0m\u001b[0mpks_targets\u001b[0m\u001b[0;34m[\u001b[0m\u001b[0;34m'D'\u001b[0m\u001b[0;34m]\u001b[0m\u001b[0;34m,\u001b[0m\u001b[0mbins\u001b[0m\u001b[0;34m=\u001b[0m\u001b[0;36m30\u001b[0m\u001b[0;34m)\u001b[0m\u001b[0;34m\u001b[0m\u001b[0;34m\u001b[0m\u001b[0m\n\u001b[1;32m      5\u001b[0m \u001b[0mplt\u001b[0m\u001b[0;34m.\u001b[0m\u001b[0mxlabel\u001b[0m\u001b[0;34m(\u001b[0m\u001b[0;34m\"kpc\"\u001b[0m\u001b[0;34m)\u001b[0m\u001b[0;34m\u001b[0m\u001b[0;34m\u001b[0m\u001b[0m\n",
      "\u001b[0;31mNameError\u001b[0m: name 'pks_targets' is not defined"
     ]
    }
   ],
   "source": [
    "plt.hist(pks_targets['ah'],bins=30)\n",
    "plt.xlabel(\"Arcmin\")\n",
    "plt.show()\n",
    "plt.hist(pks_targets['D'],bins=30)\n",
    "plt.xlabel(\"kpc\")\n",
    "plt.show()"
   ]
  },
  {
   "cell_type": "code",
   "execution_count": 9,
   "metadata": {},
   "outputs": [
    {
     "name": "stdout",
     "output_type": "stream",
     "text": [
      "Parkes Radio Telescope UWL\n",
      "0.05081868107721053 Jy ms for single pulse total\n",
      "4.599581952083462 Jy ms\n",
      "1 hour integration sensitivity 2.678379664828073e-05\n"
     ]
    }
   ],
   "source": [
    "###radiometer equation\n",
    "def radiofunc(sigma,tsys,tsky,G,B,tobs):\n",
    "    return (sigma*(tsys+tsky))/(G*np.sqrt(2*B*tobs))\n",
    "### an sefd way of estimation\n",
    "def sefd_rms(sigma,sefd,tobs,b):\n",
    "    return (sefd/np.sqrt(tobs*b)*sigma)\n",
    "\n",
    "tsky=2.5 ###kelvin\n",
    "\n",
    "\n",
    "###parkes telescope UWL\n",
    "pks_tsys=21\n",
    "pks_g=1.8\n",
    "#pks_sefd=29\n",
    "pks_b=(4-0.7)*1e9 ###Hz\n",
    "\n",
    "single_bw=pks_b/8192\n",
    "tobs=0.001 ###width or integration time ##seconds\n",
    "print(\"Parkes Radio Telescope UWL\")\n",
    "pks_sens=radiofunc(10,pks_tsys,tsky,pks_g,pks_b,tobs)\n",
    "singlechan_sens=radiofunc(10,pks_tsys,tsky,pks_g,single_bw,tobs)\n",
    "\n",
    "print(pks_sens,\"Jy ms for single pulse total\")\n",
    "print(singlechan_sens, \"Jy ms\")\n",
    "\n",
    "print(\"1 hour integration sensitivity\",radiofunc(10,pks_tsys,tsky,pks_g,pks_b,3600) )"
   ]
  },
  {
   "cell_type": "code",
   "execution_count": 10,
   "metadata": {},
   "outputs": [
    {
     "name": "stdout",
     "output_type": "stream",
     "text": [
      "one kilojansky pulse every 33.3924123 seconds\n",
      "1.4 GHz flux 0.1538930516681145\n",
      "1kJy 1.4 GHz flux- ---> translates to 6.498019170849886\n"
     ]
    },
    {
     "data": {
      "image/png": "[encoded data removed]",
      "text/plain": [
       "<Figure size 432x288 with 1 Axes>"
      ]
     },
     "metadata": {
      "needs_background": "light"
     },
     "output_type": "display_data"
    },
    {
     "data": {
      "image/png": "[encoded data removed]",
      "text/plain": [
       "<Figure size 432x288 with 1 Axes>"
      ]
     },
     "metadata": {
      "needs_background": "light"
     },
     "output_type": "display_data"
    }
   ],
   "source": [
    "#Crab GP\n",
    "#1 kJy ms pulse ~ 0.1% of all rotations\n",
    "# crab period 0.0333924123 s\n",
    "\n",
    "tobs_1p=0.0333924123/0.001\n",
    "print (\"one kilojansky pulse every\",tobs_1p,\"seconds\")\n",
    "\n",
    "plt.plot(np.arange(0.7,4,0.1),tobs_1p*(np.arange(0.7,4,0.1)/0.7)**(-2.7))\n",
    "plt.ylabel(\"Time (Seconds)\")\n",
    "\n",
    "# plt.plot(np.arange(0.7,4,0.1),1*(np.arange(0.7,4,0.1)/0.7)**(-2.3))\n",
    "# plt.ylabel(\"Flux Jy\")\n",
    "plt.xlabel(\"Frequency (GHz)\")\n",
    "plt.figure()\n",
    "plt.plot(np.arange(0.7,4,0.1),1*(np.arange(0.7,4,0.1)/0.7)**(-2.7))\n",
    "print (\"1.4 GHz flux\",1*2**(-2.7))\n",
    "print (\"1kJy 1.4 GHz flux- ---> translates to\",1/2**(-2.7))\n",
    "\n",
    "plt.xlabel(\"Frequency (GHz)\")\n",
    "plt.ylabel(\"Flux (kJy)\")\n",
    "plt.show()"
   ]
  },
  {
   "cell_type": "code",
   "execution_count": 11,
   "metadata": {},
   "outputs": [
    {
     "name": "stdout",
     "output_type": "stream",
     "text": [
      "gbt fov is 0.03693\n",
      "planned CRAFT-GP total FOV is 3664.353671 deg $^2$\n",
      "real CRAFT-GP total coverage is 34692.451599 deg $^2$ hrs\n",
      "7.694598626706474e-22\n"
     ]
    }
   ],
   "source": [
    "###survey times in seconds\n",
    "\n",
    "pmbs_time=2100\n",
    "htru_time=4300\n",
    "askap_t=10*3600 ##hrs\n",
    "superb_t=560\n",
    "\n",
    "utmost=9\n",
    "#### craft-gp has 63.117 antenna_days\n",
    "gp_total=63.117*24 ###hours\n",
    "####parkes and ASKAP FOV\n",
    "askap=22.9022104447\n",
    "parkes=0.5558873668\n",
    "palfa=0.01713858784 ##3.35 arcmin (3.35/2/60)^2*7*pi\n",
    "gbt=0.03692682 ##13 arcmin (3.35/2/60)^2*7*pi\n",
    "print(\"gbt fov is %.5f\"%((13.01/2/60)**2*np.pi))\n",
    "print(\"planned CRAFT-GP total FOV is %f deg $^2$\"%(askap*160))\n",
    "print(\"real CRAFT-GP total coverage is %f deg $^2$ hrs\"%(askap*63.117*24))\n",
    "\n",
    "\n",
    "##### log normal pulse stack distribution\n",
    "\n",
    "def log_normal(sigma,mu,x):\n",
    "    pdf = (np.exp(-(np.log(x) - mu)**2 / (2 * (sigma**2)))/ (x * sigma * np.sqrt(2 * np.pi)))\n",
    "    ##e^(-(log(x) - μ)^2/(2 σ^2))/(sqrt(2 π) σ x)\n",
    "    return pdf\n",
    "\n",
    "def gauss_normal(x):\n",
    "    pdf=np.exp(-(x)**2/(2 * 1**2))/ (1 * np.sqrt(2 * np.pi))\n",
    "    return pdf\n",
    "print(log_normal(0.1,1.0,1))"
   ]
  },
  {
   "cell_type": "code",
   "execution_count": 12,
   "metadata": {},
   "outputs": [
    {
     "ename": "OSError",
     "evalue": "../cat/b_rates not found.",
     "output_type": "error",
     "traceback": [
      "\u001b[0;31m---------------------------------------------------------------------------\u001b[0m",
      "\u001b[0;31mOSError\u001b[0m                                   Traceback (most recent call last)",
      "\u001b[0;32m<ipython-input-12-3af58d856989>\u001b[0m in \u001b[0;36m<module>\u001b[0;34m\u001b[0m\n\u001b[1;32m      1\u001b[0m \u001b[0mplt\u001b[0m\u001b[0;34m.\u001b[0m\u001b[0mfigure\u001b[0m\u001b[0;34m(\u001b[0m\u001b[0mfigsize\u001b[0m\u001b[0;34m=\u001b[0m\u001b[0;34m(\u001b[0m\u001b[0;36m8\u001b[0m\u001b[0;34m,\u001b[0m\u001b[0;36m9\u001b[0m\u001b[0;34m)\u001b[0m\u001b[0;34m)\u001b[0m\u001b[0;34m\u001b[0m\u001b[0;34m\u001b[0m\u001b[0m\n\u001b[1;32m      2\u001b[0m \u001b[0;32mfrom\u001b[0m \u001b[0mscipy\u001b[0m \u001b[0;32mimport\u001b[0m \u001b[0msignal\u001b[0m\u001b[0;34m\u001b[0m\u001b[0;34m\u001b[0m\u001b[0m\n\u001b[0;32m----> 3\u001b[0;31m \u001b[0mb_rate\u001b[0m\u001b[0;34m=\u001b[0m\u001b[0mnp\u001b[0m\u001b[0;34m.\u001b[0m\u001b[0mloadtxt\u001b[0m\u001b[0;34m(\u001b[0m\u001b[0;34m'../cat/b_rates'\u001b[0m\u001b[0;34m)\u001b[0m\u001b[0;34m\u001b[0m\u001b[0;34m\u001b[0m\u001b[0m\n\u001b[0m\u001b[1;32m      4\u001b[0m \u001b[0mb_wd\u001b[0m\u001b[0;34m=\u001b[0m\u001b[0mnp\u001b[0m\u001b[0;34m.\u001b[0m\u001b[0mloadtxt\u001b[0m\u001b[0;34m(\u001b[0m\u001b[0;34m'../cat/b_wd'\u001b[0m\u001b[0;34m)\u001b[0m\u001b[0;34m\u001b[0m\u001b[0;34m\u001b[0m\u001b[0m\n\u001b[1;32m      5\u001b[0m \u001b[0mb_flux\u001b[0m\u001b[0;34m=\u001b[0m\u001b[0mnp\u001b[0m\u001b[0;34m.\u001b[0m\u001b[0mloadtxt\u001b[0m\u001b[0;34m(\u001b[0m\u001b[0;34m'../cat/b_rates_flux'\u001b[0m\u001b[0;34m)\u001b[0m\u001b[0;34m\u001b[0m\u001b[0;34m\u001b[0m\u001b[0m\n",
      "\u001b[0;32m~/opt/anaconda3/lib/python3.8/site-packages/numpy/lib/npyio.py\u001b[0m in \u001b[0;36mloadtxt\u001b[0;34m(fname, dtype, comments, delimiter, converters, skiprows, usecols, unpack, ndmin, encoding, max_rows)\u001b[0m\n\u001b[1;32m    959\u001b[0m             \u001b[0mfname\u001b[0m \u001b[0;34m=\u001b[0m \u001b[0mos_fspath\u001b[0m\u001b[0;34m(\u001b[0m\u001b[0mfname\u001b[0m\u001b[0;34m)\u001b[0m\u001b[0;34m\u001b[0m\u001b[0;34m\u001b[0m\u001b[0m\n\u001b[1;32m    960\u001b[0m         \u001b[0;32mif\u001b[0m \u001b[0m_is_string_like\u001b[0m\u001b[0;34m(\u001b[0m\u001b[0mfname\u001b[0m\u001b[0;34m)\u001b[0m\u001b[0;34m:\u001b[0m\u001b[0;34m\u001b[0m\u001b[0;34m\u001b[0m\u001b[0m\n\u001b[0;32m--> 961\u001b[0;31m             \u001b[0mfh\u001b[0m \u001b[0;34m=\u001b[0m \u001b[0mnp\u001b[0m\u001b[0;34m.\u001b[0m\u001b[0mlib\u001b[0m\u001b[0;34m.\u001b[0m\u001b[0m_datasource\u001b[0m\u001b[0;34m.\u001b[0m\u001b[0mopen\u001b[0m\u001b[0;34m(\u001b[0m\u001b[0mfname\u001b[0m\u001b[0;34m,\u001b[0m \u001b[0;34m'rt'\u001b[0m\u001b[0;34m,\u001b[0m \u001b[0mencoding\u001b[0m\u001b[0;34m=\u001b[0m\u001b[0mencoding\u001b[0m\u001b[0;34m)\u001b[0m\u001b[0;34m\u001b[0m\u001b[0;34m\u001b[0m\u001b[0m\n\u001b[0m\u001b[1;32m    962\u001b[0m             \u001b[0mfencoding\u001b[0m \u001b[0;34m=\u001b[0m \u001b[0mgetattr\u001b[0m\u001b[0;34m(\u001b[0m\u001b[0mfh\u001b[0m\u001b[0;34m,\u001b[0m \u001b[0;34m'encoding'\u001b[0m\u001b[0;34m,\u001b[0m \u001b[0;34m'latin1'\u001b[0m\u001b[0;34m)\u001b[0m\u001b[0;34m\u001b[0m\u001b[0;34m\u001b[0m\u001b[0m\n\u001b[1;32m    963\u001b[0m             \u001b[0mfh\u001b[0m \u001b[0;34m=\u001b[0m \u001b[0miter\u001b[0m\u001b[0;34m(\u001b[0m\u001b[0mfh\u001b[0m\u001b[0;34m)\u001b[0m\u001b[0;34m\u001b[0m\u001b[0;34m\u001b[0m\u001b[0m\n",
      "\u001b[0;32m~/opt/anaconda3/lib/python3.8/site-packages/numpy/lib/_datasource.py\u001b[0m in \u001b[0;36mopen\u001b[0;34m(path, mode, destpath, encoding, newline)\u001b[0m\n\u001b[1;32m    193\u001b[0m \u001b[0;34m\u001b[0m\u001b[0m\n\u001b[1;32m    194\u001b[0m     \u001b[0mds\u001b[0m \u001b[0;34m=\u001b[0m \u001b[0mDataSource\u001b[0m\u001b[0;34m(\u001b[0m\u001b[0mdestpath\u001b[0m\u001b[0;34m)\u001b[0m\u001b[0;34m\u001b[0m\u001b[0;34m\u001b[0m\u001b[0m\n\u001b[0;32m--> 195\u001b[0;31m     \u001b[0;32mreturn\u001b[0m \u001b[0mds\u001b[0m\u001b[0;34m.\u001b[0m\u001b[0mopen\u001b[0m\u001b[0;34m(\u001b[0m\u001b[0mpath\u001b[0m\u001b[0;34m,\u001b[0m \u001b[0mmode\u001b[0m\u001b[0;34m,\u001b[0m \u001b[0mencoding\u001b[0m\u001b[0;34m=\u001b[0m\u001b[0mencoding\u001b[0m\u001b[0;34m,\u001b[0m \u001b[0mnewline\u001b[0m\u001b[0;34m=\u001b[0m\u001b[0mnewline\u001b[0m\u001b[0;34m)\u001b[0m\u001b[0;34m\u001b[0m\u001b[0;34m\u001b[0m\u001b[0m\n\u001b[0m\u001b[1;32m    196\u001b[0m \u001b[0;34m\u001b[0m\u001b[0m\n\u001b[1;32m    197\u001b[0m \u001b[0;34m\u001b[0m\u001b[0m\n",
      "\u001b[0;32m~/opt/anaconda3/lib/python3.8/site-packages/numpy/lib/_datasource.py\u001b[0m in \u001b[0;36mopen\u001b[0;34m(self, path, mode, encoding, newline)\u001b[0m\n\u001b[1;32m    533\u001b[0m                                       encoding=encoding, newline=newline)\n\u001b[1;32m    534\u001b[0m         \u001b[0;32melse\u001b[0m\u001b[0;34m:\u001b[0m\u001b[0;34m\u001b[0m\u001b[0;34m\u001b[0m\u001b[0m\n\u001b[0;32m--> 535\u001b[0;31m             \u001b[0;32mraise\u001b[0m \u001b[0mIOError\u001b[0m\u001b[0;34m(\u001b[0m\u001b[0;34m\"%s not found.\"\u001b[0m \u001b[0;34m%\u001b[0m \u001b[0mpath\u001b[0m\u001b[0;34m)\u001b[0m\u001b[0;34m\u001b[0m\u001b[0;34m\u001b[0m\u001b[0m\n\u001b[0m\u001b[1;32m    536\u001b[0m \u001b[0;34m\u001b[0m\u001b[0m\n\u001b[1;32m    537\u001b[0m \u001b[0;34m\u001b[0m\u001b[0m\n",
      "\u001b[0;31mOSError\u001b[0m: ../cat/b_rates not found."
     ]
    },
    {
     "data": {
      "text/plain": [
       "<Figure size 576x648 with 0 Axes>"
      ]
     },
     "metadata": {},
     "output_type": "display_data"
    }
   ],
   "source": [
    "plt.figure(figsize=(8,9))\n",
    "from scipy import signal\n",
    "b_rate=np.loadtxt('../cat/b_rates')\n",
    "b_wd=np.loadtxt('../cat/b_wd')\n",
    "b_flux=np.loadtxt('../cat/b_rates_flux')\n",
    "\n",
    "oc=b_rate#/3600\n",
    "flux=b_flux/1000\n",
    "\n",
    "max=np.where(flux==flux.max())[0][0]\n",
    "###oc[max],flux[max]\n",
    "###normalized energy value is\n",
    "lgn_e=flux[max]\n",
    "print(oc[max],lgn_e)\n",
    "\n",
    "lgn_sig=0.15\n",
    "lgn_mu=1.5\n",
    "\n",
    "distr=np.arange(0.01,10,0.01)\n",
    "#fluxx3=log_normal(lgn_sig,lgn_mu,5)\n",
    "fdistr=log_normal(lgn_sig,lgn_mu,distr)\n",
    "distr=np.arange(0.01,10,0.01)\n",
    "distr2=np.arange(-3,3,0.01)\n",
    "\n",
    "#fluxx3=log_normal(lgn_sig,lgn_mu,3)\n",
    "fdistr=log_normal(lgn_sig,lgn_mu,distr)\n",
    "g_noise=gauss_normal(distr2)\n",
    "\n",
    "\n",
    "max=np.where(flux==flux.max())[0][0]\n",
    "\n",
    "\n",
    "\n",
    "res=signal.convolve(fdistr, g_noise, mode='same') / sum(fdistr)\n",
    "#print (distr2)\n",
    "apos=np.where(res==res.max())\n",
    "x_res=np.linspace(0,10,len(res))\n",
    "dpos=x_res[apos]-1\n",
    "x_res=x_res-dpos\n",
    "#print(np.intersect1d(np.where(x_res>5),np.where(x_res<5.01)))\n",
    "sig5pos=np.intersect1d(np.where(x_res>5),np.where(x_res<5.01))[0]\n",
    "print(res.max())\n",
    "#print(sum(fdistr*distr))\n",
    "#print(fluxx3,fluxx3*oc[max])\n",
    "\n",
    "\n",
    "plt.xscale('log')\n",
    "plt.yscale('log')\n",
    "plt.ylabel('Flux Density (Jy)')\n",
    "plt.xlabel(\"Telescope $\\\\tau_{Obs}$ (Hrs$^{-1}$)\")\n",
    "\n",
    "\n",
    "crab_rate=1/(tobs_1p*(1.4/0.7)**(-2.3))*3600\n",
    "# plt.plot([crab_rate,crab_rate],[1e-2,1000],label='rate at 1.4GHz crab 1kJy GP')\n",
    "k=200\n",
    "for i in pks_targets:\n",
    "    plt.plot([crab_rate-10,crab_rate+100],[i[\"CrabGP\"].value,i[\"CrabGP\"].value])\n",
    "    plt.annotate(i[\"Name\"],(crab_rate+2*k,i[\"CrabGP\"].value))\n",
    "    \n",
    "plt.plot([1e-1,1e6],[pks_sens,pks_sens],'--',c='C0',linewidth=3,label=\"Parkes 10 sigma pulse fluence\")\n",
    "plt.scatter(oc[max],flux[max],s=100,marker=\"d\",c='red',label='Brightest RRAT')\n",
    "#plt.plot(oc[max]*fdistr,flux[max]*distr)\n",
    "plt.plot(oc[max]*res,flux[max]*x_res,label=\"pdf distribution * measured rate\")\n",
    "plt.xlim(1e-1,1e6)\n",
    "plt.ylim(1e-2,1.5e2)\n",
    "#plt.grid(True)\n",
    "plt.legend(loc=3)\n",
    "plt.tight_layout()\n",
    "plt.savefig(\"rrat_space.pdf\")\n",
    "plt.show()\n",
    "#print(pmbs_y)\n",
    "print(len(oc))"
   ]
  },
  {
   "cell_type": "code",
   "execution_count": null,
   "metadata": {},
   "outputs": [],
   "source": [
    "for name in pks_targets[\"Name\"]:\n",
    "    print (name)\n",
    "    mask=pks_targets[\"Name\"]==name\n",
    "#     print (pks_targets[mask][\"ah\",\"e\"])\n",
    "    a=pks_targets[mask][\"ah\"][0]\n",
    "    e=pks_targets[mask][\"e\"][0]\n",
    "    b=np.sqrt(a**2*(1-e**2))\n",
    "    print ('a value',a)\n",
    "    print ('b value',b)\n",
    "    print (\"pointings needed\",a/6,' x ',b/6,' = ', np.round(a/6+1)*np.round(b/6+1))"
   ]
  },
  {
   "cell_type": "code",
   "execution_count": null,
   "metadata": {
    "collapsed": true
   },
   "outputs": [],
   "source": [
    "#LeoIV "
   ]
  }
 ],
 "metadata": {
  "anaconda-cloud": {},
  "kernelspec": {
   "display_name": "Python 3",
   "language": "python",
   "name": "python3"
  },
  "language_info": {
   "codemirror_mode": {
    "name": "ipython",
    "version": 3
   },
   "file_extension": ".py",
   "mimetype": "text/x-python",
   "name": "python",
   "nbconvert_exporter": "python",
   "pygments_lexer": "ipython3",
   "version": "3.8.5"
  }
 },
 "nbformat": 4,
 "nbformat_minor": 2
}
